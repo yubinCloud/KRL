{
 "cells": [
  {
   "cell_type": "code",
   "execution_count": 2,
   "metadata": {},
   "outputs": [],
   "source": [
    "from krl.dataset.instance import load_krl_dataset"
   ]
  },
  {
   "cell_type": "code",
   "execution_count": 3,
   "metadata": {},
   "outputs": [
    {
     "name": "stderr",
     "output_type": "stream",
     "text": [
      "Using custom data configuration VLyb--FB15k-9c2b7adb53c3b320\n",
      "Found cached dataset csv (/root/.cache/huggingface/datasets/VLyb___csv/VLyb--FB15k-9c2b7adb53c3b320/0.0.0/6b34fb8fcf56f7c8ba51dc895bfa2bfbe43546f190a60fcf74bb5e8afdcc2317)\n",
      "100%|██████████| 3/3 [00:00<00:00, 191.89it/s]\n"
     ]
    }
   ],
   "source": [
    "fb15k = load_krl_dataset('FB15k')"
   ]
  },
  {
   "cell_type": "code",
   "execution_count": 5,
   "metadata": {},
   "outputs": [
    {
     "data": {
      "text/plain": [
       "{'train': <krl.dataset.krl_dataset.BuiletinHuggingfaceDataset at 0x7f0884733d90>,\n",
       " 'valid': <krl.dataset.krl_dataset.BuiletinHuggingfaceDataset at 0x7f0884778c40>,\n",
       " 'test': <krl.dataset.krl_dataset.BuiletinHuggingfaceDataset at 0x7f0884604070>}"
      ]
     },
     "execution_count": 5,
     "metadata": {},
     "output_type": "execute_result"
    }
   ],
   "source": [
    "fb15k.dict()"
   ]
  },
  {
   "cell_type": "code",
   "execution_count": null,
   "metadata": {},
   "outputs": [],
   "source": []
  }
 ],
 "metadata": {
  "kernelspec": {
   "display_name": "ais",
   "language": "python",
   "name": "python3"
  },
  "language_info": {
   "codemirror_mode": {
    "name": "ipython",
    "version": 3
   },
   "file_extension": ".py",
   "mimetype": "text/x-python",
   "name": "python",
   "nbconvert_exporter": "python",
   "pygments_lexer": "ipython3",
   "version": "3.9.16"
  },
  "orig_nbformat": 4,
  "vscode": {
   "interpreter": {
    "hash": "e79d845ce09a116dcacebcdcf6a8ee439742a7b8247d9dc7720dd3aefde3f822"
   }
  }
 },
 "nbformat": 4,
 "nbformat_minor": 2
}
